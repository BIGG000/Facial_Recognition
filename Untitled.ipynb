{
 "cells": [
  {
   "cell_type": "code",
   "execution_count": 1,
   "metadata": {},
   "outputs": [],
   "source": [
    "import face_recognition\n",
    "import cv2"
   ]
  },
  {
   "cell_type": "code",
   "execution_count": null,
   "metadata": {},
   "outputs": [],
   "source": [
    "# import face_recognition\n",
    "import numpy as np\n",
    "from PIL import Image, ImageDraw\n",
    "from IPython.display import display\n",
    "from google.colab.patches import cv2_imshow\n",
    "import cv2\n",
    "import os\n",
    "from datetime import datetime\n",
    "\n",
    "\n",
    "# face_1 = face_recognition.load_image_file(\"/content/Danial.jpeg\")\n",
    "# face_1_encoding = face_recognition.face_encodings(face_1)[0]\n",
    "\n",
    "face_2 = face_recognition.load_image_file(\"/content/Faizan.jpeg\")\n",
    "face_2_encoding = face_recognition.face_encodings(face_2)[0]\n",
    "\n",
    "face_3 = face_recognition.load_image_file(\"/content/Owais.jpeg\")\n",
    "face_3_encoding = face_recognition.face_encodings(face_3)[0]\n",
    "\n",
    "\n",
    "known_face_encodings = [\n",
    "    # face_1_encoding,\n",
    "    face_2_encoding,\n",
    "    face_3_encoding,\n",
    "   \n",
    "]\n",
    "known_face_names = [\n",
    "    \"Faizan\",\n",
    "    \"Owais\"\n",
    "]\n",
    "\n",
    "print(\"Done learning and creating profiles\")"
   ]
  }
 ],
 "metadata": {
  "kernelspec": {
   "display_name": "Python 3",
   "language": "python",
   "name": "python3"
  },
  "language_info": {
   "codemirror_mode": {
    "name": "ipython",
    "version": 3
   },
   "file_extension": ".py",
   "mimetype": "text/x-python",
   "name": "python",
   "nbconvert_exporter": "python",
   "pygments_lexer": "ipython3",
   "version": "3.7.6"
  }
 },
 "nbformat": 4,
 "nbformat_minor": 2
}
